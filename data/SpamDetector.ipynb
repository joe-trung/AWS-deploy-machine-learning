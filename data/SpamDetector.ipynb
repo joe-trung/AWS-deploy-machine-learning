 How are you doing?\"]))"
   ]
  },
  {
   "cell_type": "markdown",
   "metadata": {},
   "source": [
    "# Pickle operation"
   ]
  },
  {
   "cell_type": "code",
   "execution_count": null,
   "metadata": {
    "colab": {
     "base_uri": "https://localhost:8080/",
     "height": 34
    },
    "id": "8WqAULF3J4hj",
    "outputId": "305f1da3-fa21-48c1-f080-e0ccdf69596e"
   },
   "outputs": [],
   "source": [
    "import joblib\n",
    "joblib.dump(model,'spam_ham_model.pkl')\n",
    "joblib.dump(vectorizer,'vectorizer.pkl')"
   ]
  }
 ],
 "metadata": {
  "colab": {
   "name": "SpamDetector.ipynb",
   "provenance": []
  },
  "kernelspec": {
   "display_name": "Python 3",
   "language": "python",
   "name": "python3"
  },
  "language_info": {
   "codemirror_mode": {
    "name": "ipython",
    "version": 3
   },
   "file_extension": ".py",
   "mimetype": "text/x-python",
   "name": "python",
   "nbconvert_exporter": "python",
   "pygments_lexer": "ipython3",
   "version": "3.6.9"
  }
 },
 "nbformat": 4,
 "nbformat_minor": 4
}
